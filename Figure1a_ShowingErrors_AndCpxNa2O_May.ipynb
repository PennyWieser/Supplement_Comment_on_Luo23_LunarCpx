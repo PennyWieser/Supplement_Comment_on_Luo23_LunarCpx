{
 "cells": [
  {
   "cell_type": "code",
   "execution_count": 2,
   "id": "8f8254c6-e45a-4173-a592-b6e578ccba07",
   "metadata": {},
   "outputs": [],
   "source": [
    "import numpy as np\n",
    "import pandas as pd\n",
    "import matplotlib.pyplot as plt\n",
    "import Thermobar as pt"
   ]
  },
  {
   "cell_type": "code",
   "execution_count": 3,
   "id": "bdda18aa",
   "metadata": {},
   "outputs": [],
   "source": [
    "# Loading All Cpx\n",
    "All_Cpx=pd.read_excel('Cpx-Data.xlsx', sheet_name='All_Cpx_(not_all_PTs)')\n",
    "# Loading all the Cpx that barometry was performed on\n",
    "All_Cpx_PT=pd.read_excel('Cpx-Data.xlsx', sheet_name='Cpx_Liq_For_Thermobarometry')\n",
    "# All Cpx with errors (not all PTs)\n",
    "Cpx_Errors_Luo= pd.read_excel('Cpx-Data.xlsx', sheet_name='Cpx_all_Errors_Luo')\n",
    "Cpx_Errors_Che= pd.read_excel('Cpx-Data.xlsx', sheet_name='Cpx_all_Errors_Che')\n",
    "Cpx_Errors_PT=pd.read_excel('Cpx-Data.xlsx', sheet_name='Cpx_Liq_Witherrors')"
   ]
  },
  {
   "cell_type": "code",
   "execution_count": 4,
   "id": "c3b74b64",
   "metadata": {},
   "outputs": [
    {
     "data": {
      "text/plain": [
       "25.847821655837897"
      ]
     },
     "execution_count": 4,
     "metadata": {},
     "output_type": "execute_result"
    }
   ],
   "source": [
    "np.mean(All_Cpx_PT['Na2O_Cpx_Err_Estimated'])"
   ]
  },
  {
   "cell_type": "code",
   "execution_count": 5,
   "id": "9ec9aea1",
   "metadata": {},
   "outputs": [
    {
     "data": {
      "text/plain": [
       "26.2885875643532"
      ]
     },
     "execution_count": 5,
     "metadata": {},
     "output_type": "execute_result"
    }
   ],
   "source": [
    "np.median(All_Cpx_PT['Na2O_Cpx_Err_Estimated'])"
   ]
  },
  {
   "cell_type": "code",
   "execution_count": 6,
   "id": "2319c261",
   "metadata": {},
   "outputs": [
    {
     "data": {
      "text/plain": [
       "53.4056440024626"
      ]
     },
     "execution_count": 6,
     "metadata": {},
     "output_type": "execute_result"
    }
   ],
   "source": [
    "np.max(All_Cpx_PT['Na2O_Cpx_Err_Estimated'])"
   ]
  },
  {
   "cell_type": "code",
   "execution_count": 7,
   "id": "48e59c35",
   "metadata": {},
   "outputs": [
    {
     "data": {
      "text/plain": [
       "10.7722271308338"
      ]
     },
     "execution_count": 7,
     "metadata": {},
     "output_type": "execute_result"
    }
   ],
   "source": [
    "np.min(All_Cpx_PT['Na2O_Cpx_Err_Estimated'])"
   ]
  },
  {
   "cell_type": "code",
   "execution_count": 8,
   "id": "6a21c819",
   "metadata": {},
   "outputs": [
    {
     "data": {
      "text/plain": [
       "0.07202631578947366"
      ]
     },
     "execution_count": 8,
     "metadata": {},
     "output_type": "execute_result"
    }
   ],
   "source": [
    "np.mean(All_Cpx_PT['Na2O_Cpx'])"
   ]
  },
  {
   "cell_type": "code",
   "execution_count": 9,
   "id": "a45aef61",
   "metadata": {},
   "outputs": [
    {
     "data": {
      "text/plain": [
       "0.06"
      ]
     },
     "execution_count": 9,
     "metadata": {},
     "output_type": "execute_result"
    }
   ],
   "source": [
    "np.median(All_Cpx_PT['Na2O_Cpx'])"
   ]
  },
  {
   "cell_type": "code",
   "execution_count": 10,
   "id": "1681e72f",
   "metadata": {},
   "outputs": [
    {
     "name": "stdout",
     "output_type": "stream",
     "text": [
      "75\n",
      "1\n"
     ]
    },
    {
     "name": "stderr",
     "output_type": "stream",
     "text": [
      "C:\\Users\\penny\\anaconda3\\lib\\site-packages\\pandas\\core\\indexing.py:2120: FutureWarning: In a future version, the Index constructor will not infer numeric dtypes when passed object-dtype sequences (matching Series behavior)\n",
      "  new_ix = Index(new_ix)\n"
     ]
    },
    {
     "data": {
      "text/plain": [
       "31    042GP-002-py-10-core\n",
       "Name: Sample_ID_Cpx, dtype: object"
      ]
     },
     "execution_count": 10,
     "metadata": {},
     "output_type": "execute_result"
    }
   ],
   "source": [
    "cpx_comps_Pt=pt.calculate_clinopyroxene_components(cpx_comps=All_Cpx_PT)\n",
    "print(sum(cpx_comps_Pt['Jd_from 0=Na, 1=Al']==0))\n",
    "print(sum(cpx_comps_Pt['Jd_from 0=Na, 1=Al']==1))\n",
    "All_Cpx_PT['Sample_ID_Cpx'].loc[cpx_comps_Pt['Jd_from 0=Na, 1=Al']==1]"
   ]
  },
  {
   "cell_type": "code",
   "execution_count": 11,
   "id": "79d2c091",
   "metadata": {},
   "outputs": [
    {
     "data": {
      "text/plain": [
       "0.1325"
      ]
     },
     "execution_count": 11,
     "metadata": {},
     "output_type": "execute_result"
    }
   ],
   "source": [
    "np.quantile(All_Cpx_PT['Na2O_Cpx'], 0.95)"
   ]
  },
  {
   "cell_type": "code",
   "execution_count": 12,
   "id": "f7afaa58",
   "metadata": {},
   "outputs": [
    {
     "data": {
      "text/html": [
       "<div>\n",
       "<style scoped>\n",
       "    .dataframe tbody tr th:only-of-type {\n",
       "        vertical-align: middle;\n",
       "    }\n",
       "\n",
       "    .dataframe tbody tr th {\n",
       "        vertical-align: top;\n",
       "    }\n",
       "\n",
       "    .dataframe thead th {\n",
       "        text-align: right;\n",
       "    }\n",
       "</style>\n",
       "<table border=\"1\" class=\"dataframe\">\n",
       "  <thead>\n",
       "    <tr style=\"text-align: right;\">\n",
       "      <th></th>\n",
       "      <th>Filename</th>\n",
       "      <th>Spotsize</th>\n",
       "      <th>BeamCurr</th>\n",
       "      <th>AccVolt</th>\n",
       "      <th>Comment</th>\n",
       "      <th>No.</th>\n",
       "      <th>Phase</th>\n",
       "      <th>SiO2</th>\n",
       "      <th>TiO2</th>\n",
       "      <th>Al2O3</th>\n",
       "      <th>...</th>\n",
       "      <th>TiO2_Err</th>\n",
       "      <th>Al2O3_Err</th>\n",
       "      <th>FeO_Err</th>\n",
       "      <th>MnO_Err</th>\n",
       "      <th>MgO_Err</th>\n",
       "      <th>CaO_Err</th>\n",
       "      <th>Na2O_Err</th>\n",
       "      <th>K2O_Err</th>\n",
       "      <th>Cr2O3.1</th>\n",
       "      <th>P2O5.1</th>\n",
       "    </tr>\n",
       "  </thead>\n",
       "  <tbody>\n",
       "    <tr>\n",
       "      <th>0</th>\n",
       "      <td>B2(2)_0004_QNT</td>\n",
       "      <td>1um</td>\n",
       "      <td>30nA</td>\n",
       "      <td>15kV</td>\n",
       "      <td>B2-10</td>\n",
       "      <td>1</td>\n",
       "      <td>augite</td>\n",
       "      <td>47.924</td>\n",
       "      <td>1.391</td>\n",
       "      <td>1.632</td>\n",
       "      <td>...</td>\n",
       "      <td>1.87</td>\n",
       "      <td>1.72</td>\n",
       "      <td>0.53</td>\n",
       "      <td>6.34</td>\n",
       "      <td>0.66</td>\n",
       "      <td>0.56</td>\n",
       "      <td>31.31</td>\n",
       "      <td>100.00</td>\n",
       "      <td>9.25</td>\n",
       "      <td>64.95</td>\n",
       "    </tr>\n",
       "    <tr>\n",
       "      <th>1</th>\n",
       "      <td>NaN</td>\n",
       "      <td>1um</td>\n",
       "      <td>30nA</td>\n",
       "      <td>15kV</td>\n",
       "      <td>B2-11</td>\n",
       "      <td>2</td>\n",
       "      <td>augite</td>\n",
       "      <td>46.599</td>\n",
       "      <td>1.361</td>\n",
       "      <td>1.396</td>\n",
       "      <td>...</td>\n",
       "      <td>1.89</td>\n",
       "      <td>1.90</td>\n",
       "      <td>0.47</td>\n",
       "      <td>5.75</td>\n",
       "      <td>1.36</td>\n",
       "      <td>0.55</td>\n",
       "      <td>47.13</td>\n",
       "      <td>100.00</td>\n",
       "      <td>14.95</td>\n",
       "      <td>80.31</td>\n",
       "    </tr>\n",
       "    <tr>\n",
       "      <th>2</th>\n",
       "      <td>NaN</td>\n",
       "      <td>1um</td>\n",
       "      <td>30nA</td>\n",
       "      <td>15kV</td>\n",
       "      <td>B2-12</td>\n",
       "      <td>3</td>\n",
       "      <td>augite</td>\n",
       "      <td>47.797</td>\n",
       "      <td>1.307</td>\n",
       "      <td>1.623</td>\n",
       "      <td>...</td>\n",
       "      <td>1.91</td>\n",
       "      <td>1.73</td>\n",
       "      <td>0.50</td>\n",
       "      <td>6.14</td>\n",
       "      <td>0.69</td>\n",
       "      <td>0.60</td>\n",
       "      <td>29.84</td>\n",
       "      <td>203.08</td>\n",
       "      <td>7.96</td>\n",
       "      <td>100.00</td>\n",
       "    </tr>\n",
       "    <tr>\n",
       "      <th>3</th>\n",
       "      <td>NaN</td>\n",
       "      <td>1um</td>\n",
       "      <td>30nA</td>\n",
       "      <td>15kV</td>\n",
       "      <td>B2-13</td>\n",
       "      <td>4</td>\n",
       "      <td>augite</td>\n",
       "      <td>46.497</td>\n",
       "      <td>1.445</td>\n",
       "      <td>2.001</td>\n",
       "      <td>...</td>\n",
       "      <td>1.82</td>\n",
       "      <td>1.54</td>\n",
       "      <td>0.48</td>\n",
       "      <td>5.92</td>\n",
       "      <td>0.93</td>\n",
       "      <td>0.58</td>\n",
       "      <td>66.28</td>\n",
       "      <td>100.00</td>\n",
       "      <td>9.98</td>\n",
       "      <td>100.00</td>\n",
       "    </tr>\n",
       "    <tr>\n",
       "      <th>4</th>\n",
       "      <td>NaN</td>\n",
       "      <td>1um</td>\n",
       "      <td>30nA</td>\n",
       "      <td>15kV</td>\n",
       "      <td>B2-14</td>\n",
       "      <td>5</td>\n",
       "      <td>augite</td>\n",
       "      <td>48.364</td>\n",
       "      <td>1.788</td>\n",
       "      <td>2.194</td>\n",
       "      <td>...</td>\n",
       "      <td>1.61</td>\n",
       "      <td>1.47</td>\n",
       "      <td>0.55</td>\n",
       "      <td>6.56</td>\n",
       "      <td>0.54</td>\n",
       "      <td>0.61</td>\n",
       "      <td>33.01</td>\n",
       "      <td>235.13</td>\n",
       "      <td>5.70</td>\n",
       "      <td>30.77</td>\n",
       "    </tr>\n",
       "  </tbody>\n",
       "</table>\n",
       "<p>5 rows × 31 columns</p>\n",
       "</div>"
      ],
      "text/plain": [
       "         Filename Spotsize BeamCurr AccVolt Comment  No.   Phase    SiO2  \\\n",
       "0  B2(2)_0004_QNT      1um     30nA    15kV   B2-10    1  augite  47.924   \n",
       "1             NaN      1um     30nA    15kV   B2-11    2  augite  46.599   \n",
       "2             NaN      1um     30nA    15kV   B2-12    3  augite  47.797   \n",
       "3             NaN      1um     30nA    15kV   B2-13    4  augite  46.497   \n",
       "4             NaN      1um     30nA    15kV   B2-14    5  augite  48.364   \n",
       "\n",
       "    TiO2  Al2O3  ...  TiO2_Err  Al2O3_Err  FeO_Err  MnO_Err  MgO_Err  CaO_Err  \\\n",
       "0  1.391  1.632  ...      1.87       1.72     0.53     6.34     0.66     0.56   \n",
       "1  1.361  1.396  ...      1.89       1.90     0.47     5.75     1.36     0.55   \n",
       "2  1.307  1.623  ...      1.91       1.73     0.50     6.14     0.69     0.60   \n",
       "3  1.445  2.001  ...      1.82       1.54     0.48     5.92     0.93     0.58   \n",
       "4  1.788  2.194  ...      1.61       1.47     0.55     6.56     0.54     0.61   \n",
       "\n",
       "   Na2O_Err  K2O_Err  Cr2O3.1  P2O5.1  \n",
       "0     31.31   100.00     9.25   64.95  \n",
       "1     47.13   100.00    14.95   80.31  \n",
       "2     29.84   203.08     7.96  100.00  \n",
       "3     66.28   100.00     9.98  100.00  \n",
       "4     33.01   235.13     5.70   30.77  \n",
       "\n",
       "[5 rows x 31 columns]"
      ]
     },
     "execution_count": 12,
     "metadata": {},
     "output_type": "execute_result"
    }
   ],
   "source": [
    "Cpx_Errors_Che.head()"
   ]
  },
  {
   "cell_type": "code",
   "execution_count": 13,
   "id": "746e2aaf",
   "metadata": {},
   "outputs": [
    {
     "data": {
      "text/html": [
       "<div>\n",
       "<style scoped>\n",
       "    .dataframe tbody tr th:only-of-type {\n",
       "        vertical-align: middle;\n",
       "    }\n",
       "\n",
       "    .dataframe tbody tr th {\n",
       "        vertical-align: top;\n",
       "    }\n",
       "\n",
       "    .dataframe thead th {\n",
       "        text-align: right;\n",
       "    }\n",
       "</style>\n",
       "<table border=\"1\" class=\"dataframe\">\n",
       "  <thead>\n",
       "    <tr style=\"text-align: right;\">\n",
       "      <th></th>\n",
       "      <th>Unnamed: 0</th>\n",
       "      <th>Sample_ID_Cpx</th>\n",
       "      <th>Ref</th>\n",
       "      <th>SiO2_Cpx</th>\n",
       "      <th>TiO2_Cpx</th>\n",
       "      <th>Al2O3_Cpx</th>\n",
       "      <th>FeOt_Cpx</th>\n",
       "      <th>MnO_Cpx</th>\n",
       "      <th>MgO_Cpx</th>\n",
       "      <th>CaO_Cpx</th>\n",
       "      <th>...</th>\n",
       "      <th>Unnamed: 64</th>\n",
       "      <th>Unnamed: 65</th>\n",
       "      <th>Unnamed: 66</th>\n",
       "      <th>Unnamed: 67</th>\n",
       "      <th>Unnamed: 68</th>\n",
       "      <th>Unnamed: 69</th>\n",
       "      <th>Unnamed: 70</th>\n",
       "      <th>Unnamed: 71</th>\n",
       "      <th>Unnamed: 72</th>\n",
       "      <th>Unnamed: 73</th>\n",
       "    </tr>\n",
       "  </thead>\n",
       "  <tbody>\n",
       "    <tr>\n",
       "      <th>0</th>\n",
       "      <td>0</td>\n",
       "      <td>23_1-04</td>\n",
       "      <td>THIStudy</td>\n",
       "      <td>47.065</td>\n",
       "      <td>2.770</td>\n",
       "      <td>4.349</td>\n",
       "      <td>17.195</td>\n",
       "      <td>0.289</td>\n",
       "      <td>9.467</td>\n",
       "      <td>17.536</td>\n",
       "      <td>...</td>\n",
       "      <td>NaN</td>\n",
       "      <td>NaN</td>\n",
       "      <td>NaN</td>\n",
       "      <td>NaN</td>\n",
       "      <td>NaN</td>\n",
       "      <td>NaN</td>\n",
       "      <td>NaN</td>\n",
       "      <td>NaN</td>\n",
       "      <td>NaN</td>\n",
       "      <td>% errors</td>\n",
       "    </tr>\n",
       "    <tr>\n",
       "      <th>1</th>\n",
       "      <td>1</td>\n",
       "      <td>CE5-27-2</td>\n",
       "      <td>THIStudy</td>\n",
       "      <td>47.080</td>\n",
       "      <td>2.707</td>\n",
       "      <td>4.159</td>\n",
       "      <td>16.639</td>\n",
       "      <td>0.290</td>\n",
       "      <td>10.057</td>\n",
       "      <td>16.688</td>\n",
       "      <td>...</td>\n",
       "      <td>NaN</td>\n",
       "      <td>NaN</td>\n",
       "      <td>NaN</td>\n",
       "      <td>NaN</td>\n",
       "      <td>NaN</td>\n",
       "      <td>NaN</td>\n",
       "      <td>NaN</td>\n",
       "      <td>NaN</td>\n",
       "      <td>NaN</td>\n",
       "      <td>NaN</td>\n",
       "    </tr>\n",
       "    <tr>\n",
       "      <th>2</th>\n",
       "      <td>2</td>\n",
       "      <td>CE5-27-3</td>\n",
       "      <td>THIStudy</td>\n",
       "      <td>45.937</td>\n",
       "      <td>3.624</td>\n",
       "      <td>4.969</td>\n",
       "      <td>16.558</td>\n",
       "      <td>0.284</td>\n",
       "      <td>9.725</td>\n",
       "      <td>16.924</td>\n",
       "      <td>...</td>\n",
       "      <td>NaN</td>\n",
       "      <td>NaN</td>\n",
       "      <td>NaN</td>\n",
       "      <td>NaN</td>\n",
       "      <td>NaN</td>\n",
       "      <td>NaN</td>\n",
       "      <td>NaN</td>\n",
       "      <td>NaN</td>\n",
       "      <td>NaN</td>\n",
       "      <td>NaN</td>\n",
       "    </tr>\n",
       "    <tr>\n",
       "      <th>3</th>\n",
       "      <td>3</td>\n",
       "      <td>5-28-1-06</td>\n",
       "      <td>THIStudy</td>\n",
       "      <td>47.257</td>\n",
       "      <td>2.983</td>\n",
       "      <td>5.248</td>\n",
       "      <td>14.082</td>\n",
       "      <td>0.234</td>\n",
       "      <td>11.193</td>\n",
       "      <td>17.262</td>\n",
       "      <td>...</td>\n",
       "      <td>NaN</td>\n",
       "      <td>NaN</td>\n",
       "      <td>NaN</td>\n",
       "      <td>NaN</td>\n",
       "      <td>NaN</td>\n",
       "      <td>NaN</td>\n",
       "      <td>NaN</td>\n",
       "      <td>NaN</td>\n",
       "      <td>NaN</td>\n",
       "      <td>NaN</td>\n",
       "    </tr>\n",
       "    <tr>\n",
       "      <th>4</th>\n",
       "      <td>4</td>\n",
       "      <td>5-28-1-08</td>\n",
       "      <td>THIStudy</td>\n",
       "      <td>47.147</td>\n",
       "      <td>3.061</td>\n",
       "      <td>5.006</td>\n",
       "      <td>13.957</td>\n",
       "      <td>0.222</td>\n",
       "      <td>11.442</td>\n",
       "      <td>17.131</td>\n",
       "      <td>...</td>\n",
       "      <td>NaN</td>\n",
       "      <td>NaN</td>\n",
       "      <td>NaN</td>\n",
       "      <td>NaN</td>\n",
       "      <td>NaN</td>\n",
       "      <td>NaN</td>\n",
       "      <td>NaN</td>\n",
       "      <td>NaN</td>\n",
       "      <td>NaN</td>\n",
       "      <td>NaN</td>\n",
       "    </tr>\n",
       "  </tbody>\n",
       "</table>\n",
       "<p>5 rows × 74 columns</p>\n",
       "</div>"
      ],
      "text/plain": [
       "   Unnamed: 0 Sample_ID_Cpx       Ref  SiO2_Cpx  TiO2_Cpx  Al2O3_Cpx  \\\n",
       "0           0       23_1-04  THIStudy    47.065     2.770      4.349   \n",
       "1           1      CE5-27-2  THIStudy    47.080     2.707      4.159   \n",
       "2           2      CE5-27-3  THIStudy    45.937     3.624      4.969   \n",
       "3           3     5-28-1-06  THIStudy    47.257     2.983      5.248   \n",
       "4           4     5-28-1-08  THIStudy    47.147     3.061      5.006   \n",
       "\n",
       "   FeOt_Cpx  MnO_Cpx  MgO_Cpx  CaO_Cpx  ...  Unnamed: 64  Unnamed: 65  \\\n",
       "0    17.195    0.289    9.467   17.536  ...          NaN          NaN   \n",
       "1    16.639    0.290   10.057   16.688  ...          NaN          NaN   \n",
       "2    16.558    0.284    9.725   16.924  ...          NaN          NaN   \n",
       "3    14.082    0.234   11.193   17.262  ...          NaN          NaN   \n",
       "4    13.957    0.222   11.442   17.131  ...          NaN          NaN   \n",
       "\n",
       "   Unnamed: 66 Unnamed: 67  Unnamed: 68  Unnamed: 69  Unnamed: 70  \\\n",
       "0          NaN         NaN          NaN          NaN          NaN   \n",
       "1          NaN         NaN          NaN          NaN          NaN   \n",
       "2          NaN         NaN          NaN          NaN          NaN   \n",
       "3          NaN         NaN          NaN          NaN          NaN   \n",
       "4          NaN         NaN          NaN          NaN          NaN   \n",
       "\n",
       "   Unnamed: 71  Unnamed: 72  Unnamed: 73  \n",
       "0          NaN          NaN     % errors  \n",
       "1          NaN          NaN          NaN  \n",
       "2          NaN          NaN          NaN  \n",
       "3          NaN          NaN          NaN  \n",
       "4          NaN          NaN          NaN  \n",
       "\n",
       "[5 rows x 74 columns]"
      ]
     },
     "execution_count": 13,
     "metadata": {},
     "output_type": "execute_result"
    }
   ],
   "source": [
    "Cpx_Errors_PT.head()"
   ]
  },
  {
   "cell_type": "code",
   "execution_count": 14,
   "id": "5b03761c",
   "metadata": {},
   "outputs": [
    {
     "ename": "NameError",
     "evalue": "name 'combo' is not defined",
     "output_type": "error",
     "traceback": [
      "\u001b[1;31m---------------------------------------------------------------------------\u001b[0m",
      "\u001b[1;31mNameError\u001b[0m                                 Traceback (most recent call last)",
      "\u001b[1;32m~\\AppData\\Local\\Temp\\ipykernel_18548\\2093686330.py\u001b[0m in \u001b[0;36m<module>\u001b[1;34m\u001b[0m\n\u001b[0;32m      9\u001b[0m \u001b[1;33m\u001b[0m\u001b[0m\n\u001b[0;32m     10\u001b[0m \u001b[1;31m# This removes the ones off the line\u001b[0m\u001b[1;33m\u001b[0m\u001b[1;33m\u001b[0m\u001b[0m\n\u001b[1;32m---> 11\u001b[1;33m \u001b[0mfilt\u001b[0m\u001b[1;33m=\u001b[0m\u001b[1;33m~\u001b[0m\u001b[1;33m(\u001b[0m\u001b[1;33m(\u001b[0m\u001b[0mcombo\u001b[0m\u001b[1;33m[\u001b[0m\u001b[1;34m'Na2O_Val'\u001b[0m\u001b[1;33m]\u001b[0m\u001b[1;33m<\u001b[0m\u001b[1;36m0.04\u001b[0m\u001b[1;33m)\u001b[0m \u001b[1;33m&\u001b[0m \u001b[1;33m(\u001b[0m\u001b[0mcombo\u001b[0m\u001b[1;33m[\u001b[0m\u001b[1;34m'Na2O_Err'\u001b[0m\u001b[1;33m]\u001b[0m\u001b[1;33m<\u001b[0m\u001b[1;36m30\u001b[0m\u001b[1;33m)\u001b[0m\u001b[1;33m)\u001b[0m\u001b[1;33m\u001b[0m\u001b[1;33m\u001b[0m\u001b[0m\n\u001b[0m\u001b[0;32m     12\u001b[0m \u001b[0mfilt2\u001b[0m\u001b[1;33m=\u001b[0m\u001b[1;33m~\u001b[0m\u001b[1;33m(\u001b[0m\u001b[1;33m(\u001b[0m\u001b[0mcombo\u001b[0m\u001b[1;33m[\u001b[0m\u001b[1;34m'Na2O_Val'\u001b[0m\u001b[1;33m]\u001b[0m\u001b[1;33m<\u001b[0m\u001b[1;36m0.02\u001b[0m\u001b[1;33m)\u001b[0m \u001b[1;33m&\u001b[0m \u001b[1;33m(\u001b[0m\u001b[0mcombo\u001b[0m\u001b[1;33m[\u001b[0m\u001b[1;34m'Na2O_Err'\u001b[0m\u001b[1;33m]\u001b[0m\u001b[1;33m<\u001b[0m\u001b[1;36m60\u001b[0m\u001b[1;33m)\u001b[0m\u001b[1;33m)\u001b[0m\u001b[1;33m\u001b[0m\u001b[1;33m\u001b[0m\u001b[0m\n\u001b[0;32m     13\u001b[0m \u001b[1;33m\u001b[0m\u001b[0m\n",
      "\u001b[1;31mNameError\u001b[0m: name 'combo' is not defined"
     ]
    }
   ],
   "source": [
    "## Lets fit a polynomail through all the data we do have\n",
    "Errors_Combo_Luo=pd.DataFrame(data={'Na2O_Val':Cpx_Errors_Luo['Na2O'],\n",
    "                                    'Na2O_Err': Cpx_Errors_Luo['Na'],\n",
    "                                    })\n",
    "\n",
    "Errors_Combo_Che=pd.DataFrame(data={'Na2O_Val':Cpx_Errors_Che['Na2O'],\n",
    "                                    'Na2O_Err': Cpx_Errors_Che['Na2O_Err'],\n",
    "                                    })\n",
    "\n",
    "# This removes the ones off the line\n",
    "filt=~((combo['Na2O_Val']<0.04) & (combo['Na2O_Err']<30))\n",
    "filt2=~((combo['Na2O_Val']<0.02) & (combo['Na2O_Err']<60))\n",
    "\n",
    "combo=pd.concat([Errors_Combo_Luo, Errors_Combo_Che]).reset_index(drop=True)\n",
    "combo=combo.loc[(combo['Na2O_Err']<100)&(filt&filt2)]\n"
   ]
  },
  {
   "cell_type": "code",
   "execution_count": null,
   "id": "53d8b9cf",
   "metadata": {},
   "outputs": [],
   "source": []
  },
  {
   "cell_type": "code",
   "execution_count": 15,
   "id": "39a88459",
   "metadata": {},
   "outputs": [
    {
     "ename": "NameError",
     "evalue": "name 'combo' is not defined",
     "output_type": "error",
     "traceback": [
      "\u001b[1;31m---------------------------------------------------------------------------\u001b[0m",
      "\u001b[1;31mNameError\u001b[0m                                 Traceback (most recent call last)",
      "\u001b[1;32m~\\AppData\\Local\\Temp\\ipykernel_18548\\2110907139.py\u001b[0m in \u001b[0;36m<module>\u001b[1;34m\u001b[0m\n\u001b[0;32m      6\u001b[0m \u001b[1;33m\u001b[0m\u001b[0m\n\u001b[0;32m      7\u001b[0m \u001b[1;31m# Define your input data\u001b[0m\u001b[1;33m\u001b[0m\u001b[1;33m\u001b[0m\u001b[0m\n\u001b[1;32m----> 8\u001b[1;33m \u001b[0mx_data\u001b[0m \u001b[1;33m=\u001b[0m \u001b[0mcombo\u001b[0m\u001b[1;33m[\u001b[0m\u001b[1;34m'Na2O_Val'\u001b[0m\u001b[1;33m]\u001b[0m \u001b[1;31m# your data for X\u001b[0m\u001b[1;33m\u001b[0m\u001b[1;33m\u001b[0m\u001b[0m\n\u001b[0m\u001b[0;32m      9\u001b[0m \u001b[0my_data\u001b[0m \u001b[1;33m=\u001b[0m \u001b[0mcombo\u001b[0m\u001b[1;33m[\u001b[0m\u001b[1;34m'Na2O_Err'\u001b[0m\u001b[1;33m]\u001b[0m \u001b[1;31m# your data for y\u001b[0m\u001b[1;33m\u001b[0m\u001b[1;33m\u001b[0m\u001b[0m\n\u001b[0;32m     10\u001b[0m \u001b[1;33m\u001b[0m\u001b[0m\n",
      "\u001b[1;31mNameError\u001b[0m: name 'combo' is not defined"
     ]
    }
   ],
   "source": [
    "from scipy.optimize import curve_fit\n",
    "\n",
    "# Define the function to be fitted\n",
    "def model_func(x, ps_cps, c_standard, b_cps, t):\n",
    "    return np.sqrt(((x*ps_cps)/c_standard + 2*b_cps)/(((x*ps_cps)/c_standard)**2*t))\n",
    "\n",
    "# Define your input data\n",
    "x_data = combo['Na2O_Val'] # your data for X\n",
    "y_data = combo['Na2O_Err'] # your data for y\n",
    "\n",
    "# Use curve_fit to fit the model to the data\n",
    "popt, pcov = curve_fit(model_func, x_data, y_data)\n",
    "\n",
    "# Generate new data for prediction\n",
    "x_new = np.linspace(min(x_data), max(x_data), 101)\n",
    "y_new = model_func(x_new, *popt)\n",
    "Pred_PT_Err=model_func(All_Cpx_PT['Na2O_Cpx'], *popt)\n",
    "Pred_ones_witherrs=model_func(Cpx_Errors_PT['Na2O_Cpx'], *popt)\n"
   ]
  },
  {
   "cell_type": "code",
   "execution_count": 16,
   "id": "7bce0e4b",
   "metadata": {},
   "outputs": [
    {
     "ename": "NameError",
     "evalue": "name 'combo' is not defined",
     "output_type": "error",
     "traceback": [
      "\u001b[1;31m---------------------------------------------------------------------------\u001b[0m",
      "\u001b[1;31mNameError\u001b[0m                                 Traceback (most recent call last)",
      "\u001b[1;32m~\\AppData\\Local\\Temp\\ipykernel_18548\\882759885.py\u001b[0m in \u001b[0;36m<module>\u001b[1;34m\u001b[0m\n\u001b[1;32m----> 1\u001b[1;33m \u001b[0mfilt\u001b[0m\u001b[1;33m=\u001b[0m\u001b[1;33m(\u001b[0m\u001b[0mcombo\u001b[0m\u001b[1;33m[\u001b[0m\u001b[1;34m'Na2O_Val'\u001b[0m\u001b[1;33m]\u001b[0m\u001b[1;33m<\u001b[0m\u001b[1;36m0.04\u001b[0m\u001b[1;33m)\u001b[0m \u001b[1;33m&\u001b[0m \u001b[1;33m(\u001b[0m\u001b[0mcombo\u001b[0m\u001b[1;33m[\u001b[0m\u001b[1;34m'Na2O_Err'\u001b[0m\u001b[1;33m]\u001b[0m\u001b[1;33m<\u001b[0m\u001b[1;36m30\u001b[0m\u001b[1;33m)\u001b[0m\u001b[1;33m\u001b[0m\u001b[1;33m\u001b[0m\u001b[0m\n\u001b[0m\u001b[0;32m      2\u001b[0m \u001b[0mfilt2\u001b[0m\u001b[1;33m=\u001b[0m\u001b[1;33m(\u001b[0m\u001b[0mcombo\u001b[0m\u001b[1;33m[\u001b[0m\u001b[1;34m'Na2O_Val'\u001b[0m\u001b[1;33m]\u001b[0m\u001b[1;33m<\u001b[0m\u001b[1;36m0.02\u001b[0m\u001b[1;33m)\u001b[0m \u001b[1;33m&\u001b[0m \u001b[1;33m(\u001b[0m\u001b[0mcombo\u001b[0m\u001b[1;33m[\u001b[0m\u001b[1;34m'Na2O_Err'\u001b[0m\u001b[1;33m]\u001b[0m\u001b[1;33m<\u001b[0m\u001b[1;36m60\u001b[0m\u001b[1;33m)\u001b[0m\u001b[1;33m\u001b[0m\u001b[1;33m\u001b[0m\u001b[0m\n\u001b[0;32m      3\u001b[0m \u001b[0mplt\u001b[0m\u001b[1;33m.\u001b[0m\u001b[0mplot\u001b[0m\u001b[1;33m(\u001b[0m\u001b[0mcombo\u001b[0m\u001b[1;33m[\u001b[0m\u001b[1;34m'Na2O_Val'\u001b[0m\u001b[1;33m]\u001b[0m\u001b[1;33m,\u001b[0m \u001b[0mcombo\u001b[0m\u001b[1;33m[\u001b[0m\u001b[1;34m'Na2O_Err'\u001b[0m\u001b[1;33m]\u001b[0m\u001b[1;33m,\u001b[0m \u001b[1;34m'ob'\u001b[0m\u001b[1;33m)\u001b[0m\u001b[1;33m\u001b[0m\u001b[1;33m\u001b[0m\u001b[0m\n\u001b[0;32m      4\u001b[0m \u001b[1;33m\u001b[0m\u001b[0m\n\u001b[0;32m      5\u001b[0m \u001b[0mplt\u001b[0m\u001b[1;33m.\u001b[0m\u001b[0mplot\u001b[0m\u001b[1;33m(\u001b[0m\u001b[0mcombo\u001b[0m\u001b[1;33m[\u001b[0m\u001b[1;34m'Na2O_Val'\u001b[0m\u001b[1;33m]\u001b[0m\u001b[1;33m.\u001b[0m\u001b[0mloc\u001b[0m\u001b[1;33m[\u001b[0m\u001b[0mfilt\u001b[0m\u001b[1;33m]\u001b[0m\u001b[1;33m,\u001b[0m \u001b[0mcombo\u001b[0m\u001b[1;33m[\u001b[0m\u001b[1;34m'Na2O_Err'\u001b[0m\u001b[1;33m]\u001b[0m\u001b[1;33m.\u001b[0m\u001b[0mloc\u001b[0m\u001b[1;33m[\u001b[0m\u001b[0mfilt\u001b[0m\u001b[1;33m]\u001b[0m\u001b[1;33m,\u001b[0m \u001b[1;34m'or'\u001b[0m\u001b[1;33m)\u001b[0m\u001b[1;33m\u001b[0m\u001b[1;33m\u001b[0m\u001b[0m\n",
      "\u001b[1;31mNameError\u001b[0m: name 'combo' is not defined"
     ]
    }
   ],
   "source": [
    "filt=(combo['Na2O_Val']<0.04) & (combo['Na2O_Err']<30)\n",
    "filt2=(combo['Na2O_Val']<0.02) & (combo['Na2O_Err']<60)\n",
    "plt.plot(combo['Na2O_Val'], combo['Na2O_Err'], 'ob')\n",
    "\n",
    "plt.plot(combo['Na2O_Val'].loc[filt], combo['Na2O_Err'].loc[filt], 'or')\n",
    "plt.plot(x_new, y_new, '-r')"
   ]
  },
  {
   "cell_type": "code",
   "execution_count": 161,
   "id": "e40e6065",
   "metadata": {},
   "outputs": [
    {
     "data": {
      "image/png": "[encoded data removed]",
      "text/plain": [
       "<Figure size 400x500 with 2 Axes>"
      ]
     },
     "metadata": {},
     "output_type": "display_data"
    }
   ],
   "source": [
    "## Making a histogram of Na2O contents first\n",
    "b=1\n",
    "#fig, (ax1, ax3) = plt.subplots(1, 2, figsize=(10,5))\n",
    "\n",
    "fig, ((ax1h),(ax1)) = plt.subplots(2, 1, figsize=(4,5),gridspec_kw={'height_ratios': [1.5, 4]})\n",
    "plt.subplots_adjust(wspace=0, hspace=0)\n",
    "ax1.plot(x_new, y_new, '-k')\n",
    "\n",
    "# All_Cpx_Na2O_Sorted=np.sort(All_Cpx['Na2O_Cpx'])\n",
    "# All_Cpx_PT_Na2O_Sorted=np.sort(All_Cpx_PT['Na2O_Cpx'])\n",
    "# ax3.step(np.concatenate([All_Cpx_Na2O_Sorted, All_Cpx_Na2O_Sorted[[-1]]]),\n",
    "#          np.arange(All_Cpx_Na2O_Sorted.size+1)/All_Cpx_Na2O_Sorted.size, color='grey', linewidth=b)\n",
    "# ax3.step(np.concatenate([All_Cpx_PT_Na2O_Sorted, All_Cpx_PT_Na2O_Sorted[[-1]]]),\n",
    "#          np.arange(All_Cpx_PT_Na2O_Sorted.size+1)/All_Cpx_PT_Na2O_Sorted.size, color='red', linewidth=b)\n",
    "# ax2=ax1.twinx()\n",
    "ax1h.hist(All_Cpx_PT['Na2O_Cpx'], bins=25, ec='k', facecolor='cornflowerblue')\n",
    "\n",
    "# Errors\n",
    "\n",
    "ax1.plot(Cpx_Errors_Che['Na2O'], Cpx_Errors_Che['Na2O_Err'], '.b', alpha=0.3)\n",
    "ax1.plot(Cpx_Errors_Luo['Na2O'], Cpx_Errors_Luo['Na'], '.c', alpha=0.3)\n",
    "\n",
    "notLuoChe=~(All_Cpx_PT['References'].str.contains('Luo') |All_Cpx_PT['References'].str.contains('Che'))\n",
    "ax1.plot(All_Cpx_PT['Na2O_Cpx'].loc[notLuoChe], Pred_PT_Err.loc[notLuoChe], 'xk')\n",
    "Luo=Cpx_Errors_PT['Ref']=='THIStudy'\t\n",
    "Che=Cpx_Errors_PT['Ref']=='Che'\t\n",
    "ax1.plot(Cpx_Errors_PT['Na2O_Cpx'].loc[Che], \n",
    "         Cpx_Errors_PT['Na2O_Cpx_Err'].loc[Che], 'ok', mfc='blue')\n",
    "ax1.plot(Cpx_Errors_PT['Na2O_Cpx'].loc[Luo], \n",
    "         Cpx_Errors_PT['Na2O_Cpx_Err'].loc[Luo], 'ok', mfc='cyan')\n",
    "\n",
    "ax1.set_ylim([0, 100])\n",
    "ax1.set_xlim([0, 0.3])\n",
    "ax1h.grid(axis='y', linestyle='--', linewidth=0.5)\n",
    "ax1h.axes.get_xaxis().set_visible(False)\n",
    "ax1h.axes.get_yaxis().set_visible(False)\n",
    "ax1.set_xlim([0, 0.18])\n",
    "ax1h.set_xlim([0, 0.18])\n",
    "ax1h.axis(\"off\")\n",
    "ax1.grid(color = 'k', linestyle = '--', linewidth = 1, alpha = 0.1)\n",
    "\n",
    "fig.savefig('PT_Errors_All.png', dpi=300, transparent=True)"
   ]
  },
  {
   "cell_type": "code",
   "execution_count": 163,
   "id": "7467d13f",
   "metadata": {},
   "outputs": [
    {
     "data": {
      "image/png": "[encoded data removed]",
      "text/plain": [
       "<Figure size 600x500 with 2 Axes>"
      ]
     },
     "metadata": {},
     "output_type": "display_data"
    }
   ],
   "source": [
    "## Making a histogram of Na2O contents first\n",
    "b=1\n",
    "#fig, (ax1, ax3) = plt.subplots(1, 2, figsize=(10,5))\n",
    "fig, ((ax1),(ax1h)) = plt.subplots(1, 2, figsize=(6,5),gridspec_kw={'width_ratios': [4, 1.5]})\n",
    "#fig, ((ax1h),(ax1)) = plt.subplots(2, 1, figsize=(6,5),gridspec_kw={'height_ratios': [1.5, 4]})\n",
    "plt.subplots_adjust(wspace=0, hspace=0)\n",
    "ax1.plot(x_new, y_new, '-k')\n",
    "\n",
    "# All_Cpx_Na2O_Sorted=np.sort(All_Cpx['Na2O_Cpx'])\n",
    "# All_Cpx_PT_Na2O_Sorted=np.sort(All_Cpx_PT['Na2O_Cpx'])\n",
    "# ax3.step(np.concatenate([All_Cpx_Na2O_Sorted, All_Cpx_Na2O_Sorted[[-1]]]),\n",
    "#          np.arange(All_Cpx_Na2O_Sorted.size+1)/All_Cpx_Na2O_Sorted.size, color='grey', linewidth=b)\n",
    "# ax3.step(np.concatenate([All_Cpx_PT_Na2O_Sorted, All_Cpx_PT_Na2O_Sorted[[-1]]]),\n",
    "#          np.arange(All_Cpx_PT_Na2O_Sorted.size+1)/All_Cpx_PT_Na2O_Sorted.size, color='red', linewidth=b)\n",
    "# ax2=ax1.twinx()\n",
    "ax1h.hist(Pred_PT_Err, bins=20, ec='k', facecolor='cornflowerblue', orientation='horizontal')\n",
    "\n",
    "# Errors\n",
    "\n",
    "ax1.plot(Cpx_Errors_Che['Na2O'], Cpx_Errors_Che['Na2O_Err'], '.b', alpha=0.3)\n",
    "ax1.plot(Cpx_Errors_Luo['Na2O'], Cpx_Errors_Luo['Na'], '.r', alpha=0.3)\n",
    "\n",
    "notLuoChe=~(All_Cpx_PT['References'].str.contains('Luo') |All_Cpx_PT['References'].str.contains('Che'))\n",
    "ax1.plot(All_Cpx_PT['Na2O_Cpx'].loc[notLuoChe], Pred_PT_Err.loc[notLuoChe], 'xk')\n",
    "Luo=Cpx_Errors_PT['Ref']=='THIStudy'\t\n",
    "Che=Cpx_Errors_PT['Ref']=='Che'\t\n",
    "ax1.plot(Cpx_Errors_PT['Na2O_Cpx'].loc[Che], \n",
    "         Cpx_Errors_PT['Na2O_Cpx_Err'].loc[Che], 'ok', mfc='blue')\n",
    "ax1.plot(Cpx_Errors_PT['Na2O_Cpx'].loc[Luo], \n",
    "         Cpx_Errors_PT['Na2O_Cpx_Err'].loc[Luo], 'ok', mfc='red')\n",
    "\n",
    "ax1.set_ylim([0, 100])\n",
    "ax1.set_xlim([0, 0.3])\n",
    "\n",
    "ax1h.axes.get_xaxis().set_visible(False)\n",
    "#ax1h.axes.get_yaxis().set_visible(False)\n",
    "ax1.set_xlim([0, 0.18])\n",
    "#ax1h.set_xlim([0, 0.18])\n",
    "ax1.set_ylim([0, 100])\n",
    "ax1h.set_ylim([0, 100])\n",
    "ax1h.axis(\"off\")\n",
    "fig.savefig('SecondAxis.png', dpi=200, transparent=True)"
   ]
  },
  {
   "cell_type": "code",
   "execution_count": 138,
   "id": "db346fe4",
   "metadata": {},
   "outputs": [
    {
     "data": {
      "text/plain": [
       "(array([ 2.,  3.,  6.,  8.,  2.,  3.,  7.,  3.,  2., 12.,  5.,  8.,  1.,\n",
       "         1.,  2.,  1.,  4.,  0.,  0.,  3.,  1.,  0.,  1.,  0.,  1.]),\n",
       " array([10.77222713, 12.47756381, 14.18290048, 15.88823716, 17.59357383,\n",
       "        19.29891051, 21.00424718, 22.70958385, 24.41492053, 26.1202572 ,\n",
       "        27.82559388, 29.53093055, 31.23626723, 32.9416039 , 34.64694058,\n",
       "        36.35227725, 38.05761393, 39.7629506 , 41.46828728, 43.17362395,\n",
       "        44.87896063, 46.5842973 , 48.28963398, 49.99497065, 51.70030733,\n",
       "        53.405644  ]),\n",
       " <BarContainer object of 25 artists>)"
      ]
     },
     "execution_count": 138,
     "metadata": {},
     "output_type": "execute_result"
    },
    {
     "data": {
      "image/png": "[encoded data removed]",
      "text/plain": [
       "<Figure size 640x480 with 1 Axes>"
      ]
     },
     "metadata": {},
     "output_type": "display_data"
    }
   ],
   "source": [
    "plt.hist(Pred_PT_Err, bins=25, ec='k', facecolor='grey', orientation='horizontal')"
   ]
  },
  {
   "cell_type": "code",
   "execution_count": 159,
   "id": "0a8028e9",
   "metadata": {},
   "outputs": [],
   "source": [
    "## Lets save errors to copy elsewhere\n",
    "Pred_ones_witherrs.to_clipboard(excel=True)"
   ]
  },
  {
   "cell_type": "code",
   "execution_count": null,
   "id": "84366ca2",
   "metadata": {},
   "outputs": [],
   "source": []
  }
 ],
 "metadata": {
  "kernelspec": {
   "display_name": "Python 3 (ipykernel)",
   "language": "python",
   "name": "python3"
  },
  "language_info": {
   "codemirror_mode": {
    "name": "ipython",
    "version": 3
   },
   "file_extension": ".py",
   "mimetype": "text/x-python",
   "name": "python",
   "nbconvert_exporter": "python",
   "pygments_lexer": "ipython3",
   "version": "3.9.13"
  }
 },
 "nbformat": 4,
 "nbformat_minor": 5
}
