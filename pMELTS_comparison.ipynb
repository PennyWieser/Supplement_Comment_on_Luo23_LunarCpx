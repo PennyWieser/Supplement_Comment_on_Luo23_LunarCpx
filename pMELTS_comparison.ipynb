{
 "cells": [
  {
   "cell_type": "markdown",
   "id": "9823292c-6b02-4d32-b135-c5f32d8981cc",
   "metadata": {},
   "source": [
    "# Comparison of pMELTS to experimental clinopyroxenes"
   ]
  },
  {
   "cell_type": "markdown",
   "id": "96bb7975-097c-4de4-b32c-e3872e385f73",
   "metadata": {},
   "source": [
    "This notebook uses pMELTS to generate DataFrames and excel spreadsheets of predicted clinopyroxene compositions based on an experimental composition, pressure and temperature. To run this code please first install pyMELTScalc and download the MELTS files from https://magmasource.caltech.edu/gitlist/MELTS_Matlab.git/"
   ]
  },
  {
   "cell_type": "code",
   "execution_count": 1,
   "id": "a84fa424-740a-4404-bf1f-ab6825bf6e43",
   "metadata": {},
   "outputs": [],
   "source": [
    "#!pip install \"https://github.com/gleesonm1/pyMELTScalc/archive/refs/tags/v0.1.9.zip\" "
   ]
  },
  {
   "cell_type": "code",
   "execution_count": 2,
   "id": "ac081106",
   "metadata": {},
   "outputs": [],
   "source": [
    "import numpy as np\n",
    "import pandas as pd\n",
    "import matplotlib.pyplot as plt\n",
    "import pyMELTScalc as M\n",
    "\n",
    "import sys\n",
    "# use this line to inform the code where the MELTS files are stored\n",
    "sys.path.append(r'H:\\My Drive\\2022\\GitHub\\pyMELTScalc\\MELTS')"
   ]
  },
  {
   "cell_type": "markdown",
   "id": "287bd1c5-4592-463e-a51b-477ba009058f",
   "metadata": {},
   "source": [
    "## First calculate the clinopyroxene compositions predicted for experiments used in the Neave and Putirka (2017) calibration"
   ]
  },
  {
   "cell_type": "code",
   "execution_count": 3,
   "id": "ad2a5345",
   "metadata": {},
   "outputs": [],
   "source": [
    "Data = pd.read_excel(\"NeaveExps.xlsx\")"
   ]
  },
  {
   "cell_type": "code",
   "execution_count": 4,
   "id": "89847d27",
   "metadata": {},
   "outputs": [
    {
     "data": {
      "application/vnd.jupyter.widget-view+json": {
       "model_id": "f0288906900240dd901d0ca7ff088867",
       "version_major": 2,
       "version_minor": 0
      },
      "text/plain": [
       "  0%|          | 0/15 [00:00<?, ?it/s]"
      ]
     },
     "metadata": {},
     "output_type": "display_data"
    }
   ],
   "source": [
    "Res = M.equilibrate_multi(Model = \"pMELTS\", P_bar = Data['P_kbar']*1000, T_C = Data['T_K']-273.15, \n",
    "                          bulk = Data, fO2_buffer = \"NNO\")"
   ]
  },
  {
   "cell_type": "code",
   "execution_count": 5,
   "id": "3c2bae01",
   "metadata": {},
   "outputs": [],
   "source": [
    "Results = pd.DataFrame(columns = Res['0']['liquid1'].columns, \n",
    "                       data = np.zeros((len(Data['SiO2_Liq']), len(Res['0']['liquid1'].columns))))\n",
    "\n",
    "for i in Res:\n",
    "    if 'clinopyroxene1' in list(Res[i].keys()):\n",
    "        Results.iloc[int(i), :] = Res[i]['clinopyroxene1']\n",
    "        \n",
    "Results['FeOt'] = Results['FeO'] + Results['Fe2O3']*71.844/(159.69/2)\n",
    "Results = Results.add_suffix('_MELTS_Cpx')\n",
    "\n",
    "for r in Results:\n",
    "    Data[r] = Results[r]"
   ]
  },
  {
   "cell_type": "code",
   "execution_count": 6,
   "id": "e5fc5fa6",
   "metadata": {},
   "outputs": [],
   "source": [
    "Data.to_excel('NeaveExps.xlsx')"
   ]
  },
  {
   "cell_type": "markdown",
   "id": "3e3c6639-48e5-48d7-ad39-9e4349617cfe",
   "metadata": {},
   "source": [
    "## Then calculate the clinopyroxene compositions predicted for lunar experiments"
   ]
  },
  {
   "cell_type": "code",
   "execution_count": 7,
   "id": "46211d5d",
   "metadata": {},
   "outputs": [],
   "source": [
    "Data = pd.read_excel('Cpx-Data.xlsx', sheet_name = \"Experiments\")\n",
    "Input = Data.iloc[:, np.where(Data.columns.str.contains('_Liq'))[0]]"
   ]
  },
  {
   "cell_type": "code",
   "execution_count": 8,
   "id": "95f412dd",
   "metadata": {},
   "outputs": [
    {
     "data": {
      "application/vnd.jupyter.widget-view+json": {
       "model_id": "aac6618113a343a385c3f9f3b7d9c99c",
       "version_major": 2,
       "version_minor": 0
      },
      "text/plain": [
       "  0%|          | 0/2 [00:00<?, ?it/s]"
      ]
     },
     "metadata": {},
     "output_type": "display_data"
    }
   ],
   "source": [
    "Res_IW = M.equilibrate_multi(Model = \"pMELTS\", P_bar = Data['P(kbar)']*1000, T_C = Data['T(C)'], \n",
    "                          bulk = Input, fO2_buffer = \"IW\")"
   ]
  },
  {
   "cell_type": "code",
   "execution_count": 9,
   "id": "41d09954",
   "metadata": {},
   "outputs": [],
   "source": [
    "Results = pd.DataFrame(columns = Res_IW['0']['clinopyroxene1'].columns, \n",
    "                       data = np.zeros((15, len(Res_IW['0']['clinopyroxene1'].columns))))\n",
    "\n",
    "T_C = np.zeros(len(Results['SiO2']))\n",
    "\n",
    "for i in Res_IW:\n",
    "    if 'clinopyroxene1' in list(Res_IW[i].keys()):\n",
    "        Results.iloc[int(i), :] = Res_IW[i]['clinopyroxene1']\n",
    "        \n",
    "Results['FeOt'] = Results['FeO'] + Results['Fe2O3']*71.844/(159.69/2)\n",
    "Results = Results.add_suffix('_MELTS_Cpx')    \n",
    "\n",
    "for r in Results:\n",
    "    Data[r] = Results[r]"
   ]
  },
  {
   "cell_type": "code",
   "execution_count": 10,
   "id": "9ed09578",
   "metadata": {},
   "outputs": [],
   "source": [
    "Data.to_excel('Cpx-Data.xlsx', sheet_name = \"Experiments\")"
   ]
  },
  {
   "cell_type": "code",
   "execution_count": null,
   "id": "9a89f1c3-ea7f-43b7-83f8-654f400b2db5",
   "metadata": {},
   "outputs": [],
   "source": []
  }
 ],
 "metadata": {
  "kernelspec": {
   "display_name": "Python 3 (ipykernel)",
   "language": "python",
   "name": "python3"
  },
  "language_info": {
   "codemirror_mode": {
    "name": "ipython",
    "version": 3
   },
   "file_extension": ".py",
   "mimetype": "text/x-python",
   "name": "python",
   "nbconvert_exporter": "python",
   "pygments_lexer": "ipython3",
   "version": "3.9.13"
  }
 },
 "nbformat": 4,
 "nbformat_minor": 5
}
